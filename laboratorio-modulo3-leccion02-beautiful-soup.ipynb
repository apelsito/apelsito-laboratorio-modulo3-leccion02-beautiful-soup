{
 "cells": [
  {
   "cell_type": "markdown",
   "metadata": {},
   "source": [
    "<div style=\"text-align: center;\">\n",
    "  <img src=\"https://github.com/Hack-io-Data/Imagenes/blob/main/01-LogosHackio/logo_naranja@4x.png?raw=true\" alt=\"esquema\" />\n",
    "</div>"
   ]
  },
  {
   "cell_type": "markdown",
   "metadata": {},
   "source": [
    "º## Contexto\n",
    "\n",
    "**Descripción:**\n",
    "\n",
    "SetMagic Productions es una empresa especializada en la provisión de servicios integrales para la realización de rodajes cinematográficos y audiovisuales. Nos dedicamos a facilitar tanto el atrezzo necesario para las producciones como los lugares idóneos para llevar a cabo los rodajes, ya sea en entornos al aire libre o en interiores.\n",
    "\n",
    "**Servicios Ofrecidos:**\n",
    "\n",
    "- **Atrezzo Creativo:** Contamos con un extenso catálogo de atrezzo que abarca desde accesorios hasta muebles y objetos temáticos para ambientar cualquier tipo de  escena.\n",
    "\n",
    "- **Locaciones Únicas:** Nuestra empresa ofrece una amplia selección de locaciones, que incluyen desde escenarios naturales como playas, bosques y montañas, hasta espacios interiores como estudios, casas históricas y edificios emblemáticos.\n",
    "- **Servicios de Producción:** Además de proporcionar atrezzo y locaciones, también ofrecemos servicios de producción audiovisual, incluyendo equipos de filmación, personal técnico y servicios de postproducción.\n",
    "\n",
    "**Herramientas y Tecnologías:**\n",
    "\n",
    "Para recopilar información sobre nuevas locaciones y tendencias en atrezzo, utilizamos herramientas de web scraping como Beautiful Soup y Selenium para extraer datos de sitios web relevantes y redes sociales especializadas en cine y producción audiovisual. También integramos APIs de plataformas de alquiler de locaciones y bases de datos de atrezzo para acceder a información actualizada y detallada.\n",
    "\n",
    "**Almacenamiento de Datos:** (A trabajar la próxima semana)\n",
    "\n",
    "La información recopilada mediante web scraping y APIs se almacenará tanto en una base de datos relacional SQL como en una base de datos no relacional MongoDB . Estas base de datos nos permite organizar eficientemente la información sobre locaciones, atrezzo, clientes y proyectos en curso, facilitando su acceso y gestión.\n",
    "\n",
    "**Objetivo:**\n",
    "\n",
    "Nuestro objetivo principal es proporcionar a nuestros clientes una experiencia fluida y personalizada en la búsqueda y selección de locaciones y atrezzo para sus proyectos audiovisuales. Utilizando tecnologías avanzadas y una amplia red de contactos en la industria, nos esforzamos por ofrecer soluciones creativas y de alta calidad que satisfagan las necesidades específicas de cada producción.\n",
    "\n",
    "\n",
    "## Lab: Extracción de Información con Beautiful Soup\n",
    "\n",
    "En este laboratorio seguirás enriqueciendo la base de datos para ofrecer a tus clientes un servicio más completo y personalizado. Para lograr esto, extraerás información valiosa sobre objetos de atrezzo de una web especializada. Utilizarás técnicas de web scraping con la biblioteca **Beautiful Soup** para obtener y organizar los datos de manera eficiente.\n",
    "\n",
    "Trabajarás con la siguiente URL: [Atrezzo Vázquez](https://atrezzovazquez.es/shop.php?search_type=-1&search_terms=&limit=48&page=1). Esta página contiene una gran cantidad de objetos de atrezzo que pueden ser de interés para un proyecto de rodaje. Tu tarea será extraer información relevante de los productos listados en las primeras 100 páginas.\n",
    "\n",
    "1. **Navegación y Extracción de Múltiples Páginas**:\n",
    "\n",
    "   - La página web contiene varios elementos distribuidos en distintas páginas. Tu objetivo será iterar a través de las 100 primeras páginas y extraer la información deseada.\n",
    "\n",
    "   - Debes asegurarte de que tu código sea capaz de navegar automáticamente por estas páginas y extraer datos de manera continua.\n",
    "      ```python\n",
    "      for pagina in range(1, 3):\n",
    "        url_ebay = f\"https://www.ebay.es/e/_moda/adidassneakerses?_pgn={pagina}\"\n",
    "        res_zapatillas = requests.get(url_ebay)\n",
    "        print(res_zapatillas.status_code)\n",
    "\n",
    "      # sacamos nombre zapatillas\n",
    "      sopa_zapatillas = BeautifulSoup(res_zapatillas.content, \"html.parser\")\n",
    "      lista_producto_zapatillas = sopa_zapatillas.findAll(\"h3\", {\"class\": \"s-item__title\"} )\n",
    "      if len(lista_producto_zapatillas) == 0:\n",
    "              break\n",
    "      else:\n",
    "          nombre_zapatillas = [zapatilla.getText() for zapatilla in lista_producto_zapatillas]\n",
    "          \n",
    "          # sacamos imagen zapatillas\n",
    "          lista_imagen_zapatilla = sopa_zapatillas.findAll(\"img\", {\"class\": \"s-item__image-img\"})\n",
    "          lista_imagenes = [link.get(\"data-high-res-src\")for link in lista_imagen_zapatilla]\n",
    "\n",
    "          # sacamos precio zapatillas\n",
    "          lista_precio_zapatillas = sopa_zapatillas.findAll(\"span\", {\"class\": \"s-item__price\"})\n",
    "          precio_zapatillas = [precio.getText() for precio in lista_precio_zapatillas]\n",
    "\n",
    "          df_zapatillas = pd.DataFrame({\"nombre_zapatillas\": nombre_zapatillas, \"imagen\": lista_imagenes, \"precio\": precio_zapatillas})\n",
    "          df_final = pd.concat([df_final, df_zapatillas])\n",
    "      ```\n",
    "      \n"
   ]
  },
  {
   "cell_type": "code",
   "execution_count": 1,
   "metadata": {},
   "outputs": [],
   "source": [
    "# Importamos las librerías que necesitamos\n",
    "\n",
    "# Librerías de extracción de datos\n",
    "# -----------------------------------------------------------------------\n",
    "from bs4 import BeautifulSoup\n",
    "import requests\n",
    "import tqdm\n",
    "# Tratamiento de datos\n",
    "# -----------------------------------------------------------------------\n",
    "import pandas as pd\n",
    "import numpy as np\n",
    "import datetime\n",
    "from src.SupportLab3 import create_df"
   ]
  },
  {
   "cell_type": "code",
   "execution_count": 2,
   "metadata": {},
   "outputs": [
    {
     "name": "stdout",
     "output_type": "stream",
     "text": [
      "Respuesta recibida: 200\n"
     ]
    },
    {
     "ename": "NameError",
     "evalue": "name 'df' is not defined",
     "output_type": "error",
     "traceback": [
      "\u001b[1;31m---------------------------------------------------------------------------\u001b[0m",
      "\u001b[1;31mNameError\u001b[0m                                 Traceback (most recent call last)",
      "Cell \u001b[1;32mIn[2], line 4\u001b[0m\n\u001b[0;32m      2\u001b[0m url \u001b[38;5;241m=\u001b[39m \u001b[38;5;124mf\u001b[39m\u001b[38;5;124m\"\u001b[39m\u001b[38;5;124mhttps://atrezzovazquez.es/shop.php?search_type=-1&search_terms=&limit=48&page=\u001b[39m\u001b[38;5;132;01m{\u001b[39;00mpage\u001b[38;5;132;01m}\u001b[39;00m\u001b[38;5;124m\"\u001b[39m\n\u001b[0;32m      3\u001b[0m unir \u001b[38;5;241m=\u001b[39m create_df(url)\n\u001b[1;32m----> 4\u001b[0m df \u001b[38;5;241m=\u001b[39m pd\u001b[38;5;241m.\u001b[39mconcat([\u001b[43mdf\u001b[49m,unir],axis\u001b[38;5;241m=\u001b[39m\u001b[38;5;241m0\u001b[39m,ignore_index\u001b[38;5;241m=\u001b[39m\u001b[38;5;28;01mTrue\u001b[39;00m)\n",
      "\u001b[1;31mNameError\u001b[0m: name 'df' is not defined"
     ]
    }
   ],
   "source": [
    "df = pd.DataFrame()\n",
    "for page in range(1,101):\n",
    "    url = f\"https://atrezzovazquez.es/shop.php?search_type=-1&search_terms=&limit=48&page={page}\"\n",
    "    unir = create_df(url)\n",
    "    df = pd.concat([df,unir],axis=0,ignore_index=True)\n"
   ]
  },
  {
   "cell_type": "code",
   "execution_count": 14,
   "metadata": {},
   "outputs": [
    {
     "data": {
      "text/html": [
       "<div>\n",
       "<style scoped>\n",
       "    .dataframe tbody tr th:only-of-type {\n",
       "        vertical-align: middle;\n",
       "    }\n",
       "\n",
       "    .dataframe tbody tr th {\n",
       "        vertical-align: top;\n",
       "    }\n",
       "\n",
       "    .dataframe thead th {\n",
       "        text-align: right;\n",
       "    }\n",
       "</style>\n",
       "<table border=\"1\" class=\"dataframe\">\n",
       "  <thead>\n",
       "    <tr style=\"text-align: right;\">\n",
       "      <th></th>\n",
       "      <th>Nombre</th>\n",
       "      <th>Categoría</th>\n",
       "      <th>Sección</th>\n",
       "      <th>Descripción</th>\n",
       "      <th>Dimensiones</th>\n",
       "      <th>URL Imágenes</th>\n",
       "    </tr>\n",
       "  </thead>\n",
       "  <tbody>\n",
       "    <tr>\n",
       "      <th>0</th>\n",
       "      <td>ALF1</td>\n",
       "      <td>Alfombra</td>\n",
       "      <td>Arabe</td>\n",
       "      <td>AlfombraALF1Arabe  Alfombra persa marrón (tien...</td>\n",
       "      <td>460x340x1</td>\n",
       "      <td>https://atrezzovazquez.es/admin/img_prod/ALF1/...</td>\n",
       "    </tr>\n",
       "    <tr>\n",
       "      <th>1</th>\n",
       "      <td>ADO1</td>\n",
       "      <td>Adornos</td>\n",
       "      <td></td>\n",
       "      <td>AdornosADO1Vitrina con abanico100x10x60Añadir ...</td>\n",
       "      <td>100x10x60</td>\n",
       "      <td>https://atrezzovazquez.es/admin/img_prod/ADO1/...</td>\n",
       "    </tr>\n",
       "    <tr>\n",
       "      <th>2</th>\n",
       "      <td>AFC1</td>\n",
       "      <td>Alfombra de cama</td>\n",
       "      <td>Dormitorio</td>\n",
       "      <td>Alfombra de camaAFC1Dormitorio  Alfombrín de c...</td>\n",
       "      <td>150x72x1</td>\n",
       "      <td>https://atrezzovazquez.es/admin/img_prod/AFC1/...</td>\n",
       "    </tr>\n",
       "    <tr>\n",
       "      <th>3</th>\n",
       "      <td>AP1</td>\n",
       "      <td>Aparador</td>\n",
       "      <td>Alemán Comedor</td>\n",
       "      <td>AparadorAP1Alemán  Comedor  Aparador alemán 2 ...</td>\n",
       "      <td>207x64x300</td>\n",
       "      <td>https://atrezzovazquez.es/admin/img_prod/AP1/A...</td>\n",
       "    </tr>\n",
       "    <tr>\n",
       "      <th>4</th>\n",
       "      <td>AST1</td>\n",
       "      <td>Atrezzo astronomia</td>\n",
       "      <td>Astronomía</td>\n",
       "      <td>Atrezzo astronomiaAST1Astronomía  Pie de mader...</td>\n",
       "      <td>78x78x130</td>\n",
       "      <td>https://atrezzovazquez.es/admin/img_prod/AST1/...</td>\n",
       "    </tr>\n",
       "    <tr>\n",
       "      <th>...</th>\n",
       "      <td>...</td>\n",
       "      <td>...</td>\n",
       "      <td>...</td>\n",
       "      <td>...</td>\n",
       "      <td>...</td>\n",
       "      <td>...</td>\n",
       "    </tr>\n",
       "    <tr>\n",
       "      <th>4795</th>\n",
       "      <td>TYV65</td>\n",
       "      <td>Televisores y vídeos</td>\n",
       "      <td>Televisor</td>\n",
       "      <td>Televisores y vídeosTYV65Televisor  Televisión...</td>\n",
       "      <td>62x46x43</td>\n",
       "      <td>https://atrezzovazquez.es/admin/img_prod/TYV65...</td>\n",
       "    </tr>\n",
       "    <tr>\n",
       "      <th>4796</th>\n",
       "      <td>PV65</td>\n",
       "      <td>Pie de vela</td>\n",
       "      <td>Candelabro</td>\n",
       "      <td>Pie de velaPV65Candelabro  Candelabro de hierr...</td>\n",
       "      <td>0x0x0</td>\n",
       "      <td>https://atrezzovazquez.es/admin/img_prod/PV65/...</td>\n",
       "    </tr>\n",
       "    <tr>\n",
       "      <th>4797</th>\n",
       "      <td>TP65</td>\n",
       "      <td>Tapices y estandartes</td>\n",
       "      <td>Salón</td>\n",
       "      <td>Tapices y estandartesTP65Salón  Tapiz bordado ...</td>\n",
       "      <td>180x5x122</td>\n",
       "      <td>https://atrezzovazquez.es/admin/img_prod/TP65/...</td>\n",
       "    </tr>\n",
       "    <tr>\n",
       "      <th>4798</th>\n",
       "      <td>PER65</td>\n",
       "      <td>Perchero</td>\n",
       "      <td>Recibidor Italiano Dormitorio</td>\n",
       "      <td>PercheroPER65Recibidor  Italiano  Dormitorio  ...</td>\n",
       "      <td>1x1x1</td>\n",
       "      <td>https://atrezzovazquez.es/admin/img_prod/PER65...</td>\n",
       "    </tr>\n",
       "    <tr>\n",
       "      <th>4799</th>\n",
       "      <td>AFC65</td>\n",
       "      <td>Alfombra de cama</td>\n",
       "      <td>Dormitorio</td>\n",
       "      <td>Alfombra de camaAFC65Dormitorio  Alfombrín de ...</td>\n",
       "      <td>120x60x1</td>\n",
       "      <td>https://atrezzovazquez.es/admin/img_prod/AFC65...</td>\n",
       "    </tr>\n",
       "  </tbody>\n",
       "</table>\n",
       "<p>4800 rows × 6 columns</p>\n",
       "</div>"
      ],
      "text/plain": [
       "     Nombre              Categoría                        Sección  \\\n",
       "0      ALF1               Alfombra                          Arabe   \n",
       "1      ADO1                Adornos                                  \n",
       "2      AFC1       Alfombra de cama                     Dormitorio   \n",
       "3       AP1               Aparador                 Alemán Comedor   \n",
       "4      AST1     Atrezzo astronomia                     Astronomía   \n",
       "...     ...                    ...                            ...   \n",
       "4795  TYV65   Televisores y vídeos                      Televisor   \n",
       "4796   PV65            Pie de vela                     Candelabro   \n",
       "4797   TP65  Tapices y estandartes                          Salón   \n",
       "4798  PER65               Perchero  Recibidor Italiano Dormitorio   \n",
       "4799  AFC65       Alfombra de cama                     Dormitorio   \n",
       "\n",
       "                                            Descripción Dimensiones  \\\n",
       "0     AlfombraALF1Arabe  Alfombra persa marrón (tien...   460x340x1   \n",
       "1     AdornosADO1Vitrina con abanico100x10x60Añadir ...   100x10x60   \n",
       "2     Alfombra de camaAFC1Dormitorio  Alfombrín de c...    150x72x1   \n",
       "3     AparadorAP1Alemán  Comedor  Aparador alemán 2 ...  207x64x300   \n",
       "4     Atrezzo astronomiaAST1Astronomía  Pie de mader...   78x78x130   \n",
       "...                                                 ...         ...   \n",
       "4795  Televisores y vídeosTYV65Televisor  Televisión...    62x46x43   \n",
       "4796  Pie de velaPV65Candelabro  Candelabro de hierr...       0x0x0   \n",
       "4797  Tapices y estandartesTP65Salón  Tapiz bordado ...   180x5x122   \n",
       "4798  PercheroPER65Recibidor  Italiano  Dormitorio  ...       1x1x1   \n",
       "4799  Alfombra de camaAFC65Dormitorio  Alfombrín de ...    120x60x1   \n",
       "\n",
       "                                           URL Imágenes  \n",
       "0     https://atrezzovazquez.es/admin/img_prod/ALF1/...  \n",
       "1     https://atrezzovazquez.es/admin/img_prod/ADO1/...  \n",
       "2     https://atrezzovazquez.es/admin/img_prod/AFC1/...  \n",
       "3     https://atrezzovazquez.es/admin/img_prod/AP1/A...  \n",
       "4     https://atrezzovazquez.es/admin/img_prod/AST1/...  \n",
       "...                                                 ...  \n",
       "4795  https://atrezzovazquez.es/admin/img_prod/TYV65...  \n",
       "4796  https://atrezzovazquez.es/admin/img_prod/PV65/...  \n",
       "4797  https://atrezzovazquez.es/admin/img_prod/TP65/...  \n",
       "4798  https://atrezzovazquez.es/admin/img_prod/PER65...  \n",
       "4799  https://atrezzovazquez.es/admin/img_prod/AFC65...  \n",
       "\n",
       "[4800 rows x 6 columns]"
      ]
     },
     "execution_count": 14,
     "metadata": {},
     "output_type": "execute_result"
    }
   ],
   "source": [
    "df"
   ]
  },
  {
   "cell_type": "markdown",
   "metadata": {},
   "source": [
    "\n",
    "2. **Verificación del Código de Estado de la Respuesta**:\n",
    "\n",
    "   - Antes de extraer cualquier información, es fundamental verificar que la solicitud a la página web ha sido exitosa. Un código de estado 200 indica que la página se ha cargado correctamente.\n",
    "\n",
    "   - Si el código no es 200, debes imprimir un mensaje de error y detener la ejecución de la extracción para evitar problemas posteriores.\n",
    "\n",
    "\n"
   ]
  },
  {
   "cell_type": "code",
   "execution_count": 6,
   "metadata": {},
   "outputs": [
    {
     "name": "stderr",
     "output_type": "stream",
     "text": [
      "C:\\Users\\ruipe\\AppData\\Local\\Temp\\ipykernel_13856\\840469849.py:1: MarkupResemblesLocatorWarning: The input looks more like a URL than markup. You may want to use an HTTP client like requests to get the document behind the URL, and feed that document to Beautiful Soup.\n",
      "  res_atrezo = BeautifulSoup(url_atrezo, \"html.parser\")\n"
     ]
    }
   ],
   "source": [
    "res_atrezo = BeautifulSoup(url_atrezo, \"html.parser\")"
   ]
  },
  {
   "cell_type": "code",
   "execution_count": 4,
   "metadata": {},
   "outputs": [],
   "source": [
    "\n",
    "response = requests.get(url_atrezo)\n",
    "sopa_atrezo = BeautifulSoup(response.content, \"html.parser\")\n"
   ]
  },
  {
   "cell_type": "code",
   "execution_count": null,
   "metadata": {},
   "outputs": [],
   "source": []
  },
  {
   "cell_type": "markdown",
   "metadata": {},
   "source": [
    "3. **Extracción de Información Específica**:\n",
    "\n",
    "   De cada página, deberás extraer los siguientes detalles de los objetos de atrezzo:\n",
    "\n",
    "   - **Nombre del Objeto**: El nombre o identificador del objeto.\n",
    "\n",
    "\n"
   ]
  },
  {
   "cell_type": "code",
   "execution_count": 8,
   "metadata": {},
   "outputs": [],
   "source": [
    "lista_nombre_atrezo = sopa_atrezo.findAll('a',{'class':'title'})\n",
    "nombre_atrezo = [nombre.getText() for nombre in lista_nombre_atrezo]\n",
    "nombre_df = pd.DataFrame(nombre_atrezo,columns=['Nombre'])\n"
   ]
  },
  {
   "cell_type": "markdown",
   "metadata": {},
   "source": [
    "   - **Categoría**: La categoría en la que se clasifica el objeto (ej.: mobiliario, decorado, utilería, etc.).\n"
   ]
  },
  {
   "cell_type": "code",
   "execution_count": 7,
   "metadata": {},
   "outputs": [
    {
     "data": {
      "text/plain": [
       "'Alfombra'"
      ]
     },
     "execution_count": 7,
     "metadata": {},
     "output_type": "execute_result"
    }
   ],
   "source": [
    "\n",
    "lista_nombre_atrezo = sopa_atrezo.findAll('div',{'class':'product-slide-entry shift-image'})\n",
    "\n",
    "lista_nombre_atrezo[0].contents[2].getText()"
   ]
  },
  {
   "cell_type": "code",
   "execution_count": 5,
   "metadata": {},
   "outputs": [
    {
     "ename": "NameError",
     "evalue": "name 'lista_nombre_atrezo' is not defined",
     "output_type": "error",
     "traceback": [
      "\u001b[1;31m---------------------------------------------------------------------------\u001b[0m",
      "\u001b[1;31mNameError\u001b[0m                                 Traceback (most recent call last)",
      "Cell \u001b[1;32mIn[5], line 1\u001b[0m\n\u001b[1;32m----> 1\u001b[0m nombre_atrezo \u001b[38;5;241m=\u001b[39m [nombre\u001b[38;5;241m.\u001b[39mgetText() \u001b[38;5;28;01mfor\u001b[39;00m nombre \u001b[38;5;129;01min\u001b[39;00m \u001b[43mlista_nombre_atrezo\u001b[49m]\n\u001b[0;32m      2\u001b[0m nombre_atrezo\n",
      "\u001b[1;31mNameError\u001b[0m: name 'lista_nombre_atrezo' is not defined"
     ]
    }
   ],
   "source": [
    "nombre_atrezo = [nombre.getText() for nombre in lista_nombre_atrezo]\n",
    "nombre_atrezo"
   ]
  },
  {
   "cell_type": "markdown",
   "metadata": {},
   "source": []
  },
  {
   "cell_type": "code",
   "execution_count": 9,
   "metadata": {},
   "outputs": [
    {
     "ename": "NameError",
     "evalue": "name 'lista_descripcion_atrezo' is not defined",
     "output_type": "error",
     "traceback": [
      "\u001b[1;31m---------------------------------------------------------------------------\u001b[0m",
      "\u001b[1;31mNameError\u001b[0m                                 Traceback (most recent call last)",
      "Cell \u001b[1;32mIn[9], line 1\u001b[0m\n\u001b[1;32m----> 1\u001b[0m [\u001b[38;5;124mf\u001b[39m\u001b[38;5;124m\"\u001b[39m\u001b[38;5;124mid: \u001b[39m\u001b[38;5;132;01m{\u001b[39;00mdescripcion\u001b[38;5;241m.\u001b[39mcontents[\u001b[38;5;241m7\u001b[39m]\u001b[38;5;241m.\u001b[39mgetText()\u001b[38;5;132;01m}\u001b[39;00m\u001b[38;5;124m\"\u001b[39m \u001b[38;5;28;01mfor\u001b[39;00m descripcion \u001b[38;5;129;01min\u001b[39;00m \u001b[43mlista_descripcion_atrezo\u001b[49m]\n",
      "\u001b[1;31mNameError\u001b[0m: name 'lista_descripcion_atrezo' is not defined"
     ]
    }
   ],
   "source": [
    "[f\"id: {descripcion.contents[7].getText()}\" for descripcion in lista_descripcion_atrezo]"
   ]
  },
  {
   "cell_type": "markdown",
   "metadata": {},
   "source": [
    "\n",
    "   - **Sección**: La sección específica dentro de la categoría.\n",
    "\n"
   ]
  },
  {
   "cell_type": "code",
   "execution_count": 10,
   "metadata": {},
   "outputs": [],
   "source": [
    "lista_seccion_atrezo = sopa_atrezo.findAll(\"div\",{\"class\":\"cat-sec-box\"})\n",
    "seccion_atrezo = [seccion.getText() for seccion in lista_seccion_atrezo]\n",
    "seccion_df = pd.DataFrame(seccion_atrezo,columns=[\"Sección 1\"])\n",
    "#\\xa0 es el &nbsp; de HTML, que es un espacio, además separamos por dos porque hay dos espacios\n",
    "seccion_df = seccion_df[\"Sección 1\"].str.split(\"\\xa0\\xa0\",expand=True) \n"
   ]
  },
  {
   "cell_type": "code",
   "execution_count": 11,
   "metadata": {},
   "outputs": [
    {
     "data": {
      "text/plain": [
       "'Arabe'"
      ]
     },
     "execution_count": 11,
     "metadata": {},
     "output_type": "execute_result"
    }
   ],
   "source": [
    "lista_seccion_atrezo = sopa_atrezo.findAll(\"div\",{\"class\":\"cat-sec-box\"})\n",
    "seccion_atrezo = [seccion.getText() for seccion in lista_seccion_atrezo]\n",
    "\n",
    "seccion_atrezo[0].strip().replace(\"\\xa0\\xa0\",\" \")"
   ]
  },
  {
   "cell_type": "markdown",
   "metadata": {},
   "source": [
    "   - **Descripción**: Una breve descripción del objeto que puede incluir detalles sobre su estilo, material o uso.\n"
   ]
  },
  {
   "cell_type": "code",
   "execution_count": 15,
   "metadata": {},
   "outputs": [
    {
     "data": {
      "text/plain": [
       "['\\nAlfombra persa marrón (tiene unas manchas que no se quitan).\\n',\n",
       " '\\nVitrina con abanico\\n',\n",
       " '\\nAlfombrín de cama círculos azules\\n',\n",
       " '\\nAparador alemán 2 cuerpos\\n',\n",
       " '\\nPie de madera para astrolabio\\n',\n",
       " '\\nSilla eléctrica figurada\\n',\n",
       " '\\nArcón talla figuras vascas con tablero\\n',\n",
       " '\\nArmario raíz y caoba 2 puertas espejo y cajones\\n',\n",
       " '\\nArmero para fusiles con cajones\\n',\n",
       " '\\nAtaúd de niño pintado crema con cruz\\n',\n",
       " '\\nAtril facistol columna torneada\\n',\n",
       " '\\nBalancín de jardín 2 cojines\\n',\n",
       " '\\nBanco portugués respaldo alto torneado\\n',\n",
       " '\\nBanqueta bambú cuadrada\\n',\n",
       " '\\nMesa jardín de rejilla tapa cristal\\n',\n",
       " '\\nBañera hierro fundido con patas garras doradas\\n',\n",
       " '\\nBargueño gótico con tapa hierros con pie\\n',\n",
       " '\\nBarril de madera grande\\n',\n",
       " '\\nBáscula de farmacia forrada imitación madera\\n',\n",
       " '\\nBaúl armario americano verde\\n',\n",
       " '\\nColumpio de bebé para puerta (saltador)\\n',\n",
       " '\\nPerchero de pared estilo español tallado cabezas\\n',\n",
       " '\\nEscalera de tijera pintada verde\\n',\n",
       " '\\nBiombo 4 hojas tapizado rojo y oro con galón\\n',\n",
       " '\\nBis a bis bambú nogal tapizado terciopelo rojo y azul\\n',\n",
       " '\\nBraseros pletina hierro de palo\\n',\n",
       " '\\nFila de 5 asientos de butacas de cine pana roja\\n',\n",
       " '\\nCaballete de pintor Luis XV dorado\\n',\n",
       " '\\nCaja registradora MCR con cajón\\n',\n",
       " '\\nCaja fuerte antigua con cajón y copete madera\\n',\n",
       " '\\nCaja de madera gris interior CINC\\n',\n",
       " '\\nCabecero capitoné tapizado terciopelo marrón\\n',\n",
       " '\\nReclinatorio nogal terciopelo rojo con capilla tallada\\n',\n",
       " '\\nCarretilla de plataforma de madera\\n',\n",
       " '\\nCarro de servicio de caña\\n',\n",
       " '\\nCatenaria madera torneada con base cuadrada\\n',\n",
       " '\\nChaiselonge tapizada terciopelo burdeos con cojín\\n',\n",
       " '\\nCocina de gas 4 fuegos con 2 cajones BENAVENT\\n',\n",
       " '\\nCómoda isabelina marquetería 4 cajones\\n',\n",
       " '\\nConsola Luis XVI pintada blanca y oro con chambrana\\n',\n",
       " '\\n',\n",
       " '\\nCuadro marco ancho madera fotografía Felipe III (Autor de la Cruz)\\n',\n",
       " '\\nBolsas de tiendas de papel antiguo\\n',\n",
       " '\\nEspejo vestidor francés columnas torneadas\\n',\n",
       " '\\n\\n',\n",
       " '\\nEstufa salamandra hierro negra\\n',\n",
       " '\\nEstatua escayola imagen Santo\\n',\n",
       " '\\nAspiradora antigua acero con bolsa corinto\\n']"
      ]
     },
     "execution_count": 15,
     "metadata": {},
     "output_type": "execute_result"
    }
   ],
   "source": [
    "\n",
    "lista_descripcion_atrezo = sopa_atrezo.findAll(\"div\",{\"class\":\"product-slide-entry shift-image\"})\n",
    "descripcion_atrezo = [descripcion.contents[7].getText() for descripcion in lista_descripcion_atrezo]\n",
    "descripcion_atrezo"
   ]
  },
  {
   "cell_type": "code",
   "execution_count": null,
   "metadata": {},
   "outputs": [],
   "source": [
    "lista_descripcion_atrezo = sopa_atrezo.findAll(\"div\",{\"class\":\"article-container style-1\"})\n",
    "descripcion_atrezo = [descripcion.getText() for descripcion in lista_descripcion_atrezo]\n",
    "descripcion_atrezo\n"
   ]
  },
  {
   "cell_type": "markdown",
   "metadata": {},
   "source": [
    "\n",
    "   - **Dimensiones**: El tamaño del objeto en formato (largo x ancho x alto).\n",
    "\n"
   ]
  },
  {
   "cell_type": "code",
   "execution_count": 186,
   "metadata": {},
   "outputs": [],
   "source": [
    "lista_dimensiones_atrezo = sopa_atrezo.findAll(\"div\",{\"class\":\"price\"})\n",
    "dimensiones_atrezo = [dimension.getText() for dimension in lista_dimensiones_atrezo]\n",
    "dimensiones_df = pd.DataFrame(dimensiones_atrezo,columns=[\"Dimensiones\"])\n",
    "dimensiones_df = dimensiones_df[\"Dimensiones\"].str.split(\"x\",expand=True)\n",
    "dimensiones_df = dimensiones_df.rename(columns={0:\"Largo (cm)\",1:\"Ancho (cm)\",2:\"Alto (cm)\"})\n",
    "dimensiones_df[\"Largo (cm)\"] = dimensiones_df[\"Largo (cm)\"].apply(lambda x: x.replace(\"\\n\",\"\"))\n",
    "dimensiones_df[\"Alto (cm)\"] = dimensiones_df[\"Alto (cm)\"].apply(lambda x: x.replace(\"\\n\",\"\").replace(\"(cm)\",\"\"))"
   ]
  },
  {
   "cell_type": "code",
   "execution_count": null,
   "metadata": {},
   "outputs": [],
   "source": [
    "lista_dimensiones_atrezo = sopa_atrezo.findAll(\"div\",{\"class\":\"price\"})\n",
    "dimensiones_atrezo = [dimension.getText() for dimension in lista_dimensiones_atrezo]\n",
    "type(dimensiones_atrezo)"
   ]
  },
  {
   "cell_type": "code",
   "execution_count": null,
   "metadata": {},
   "outputs": [],
   "source": [
    "dimensiones_atrezo[0].replace(\"\\n\",\"\").replace(\" (cm)\",\"\")\n"
   ]
  },
  {
   "cell_type": "code",
   "execution_count": null,
   "metadata": {},
   "outputs": [],
   "source": [
    "dimensiones_df = pd.DataFrame(dimensiones_atrezo,columns=[\"Dimensiones\"])\n",
    "dimensiones_df = dimensiones_df[\"Dimensiones\"].str.split(\"x\",expand=True)\n",
    "dimensiones_df = dimensiones_df.rename(columns={0:\"Largo (cm)\",1:\"Ancho (cm)\",2:\"Alto (cm)\"})\n",
    "dimensiones_df[\"Largo (cm)\"] = dimensiones_df[\"Largo (cm)\"].apply(lambda x: x.replace(\"\\n\",\"\"))\n",
    "dimensiones_df[\"Alto (cm)\"] = dimensiones_df[\"Alto (cm)\"].apply(lambda x: x.replace(\"\\n\",\"\").replace(\"(cm)\",\"\"))\n",
    "dimensiones_df"
   ]
  },
  {
   "cell_type": "code",
   "execution_count": null,
   "metadata": {},
   "outputs": [],
   "source": []
  },
  {
   "cell_type": "markdown",
   "metadata": {},
   "source": [
    "   - **Enlace a la Imagen**: El link a la imagen del objeto, útil para tener una vista previa visual."
   ]
  },
  {
   "cell_type": "code",
   "execution_count": null,
   "metadata": {},
   "outputs": [],
   "source": [
    "lista_imagen_atrezo = sopa_atrezo.findAll(\"div\",{\"class\":\"product-image\"})\n",
    "imagenes_atrezo = [f\"https://atrezzovazquez.es/{imagen.contents[0].get('src')}\" for imagen in lista_imagen_atrezo]\n",
    "imagenes_df = pd.DataFrame(imagenes_atrezo,columns=[\"url imagen\"])\n",
    "imagenes_df\n"
   ]
  },
  {
   "cell_type": "markdown",
   "metadata": {},
   "source": [
    "\n",
    "4. **Organización de los Datos en un Diccionario**:\n",
    "\n",
    "   Una vez extraída la información, deberás organizarla en un diccionario con las siguientes claves:\n",
    "\n",
    "   - `\"nombre\"`: Nombres del objeto.\n",
    "\n",
    "   - `\"categoria\"`: Categoría a la que pertenece el objeto.\n",
    "\n",
    "   - `\"seccion\"`: Sección específica dentro de la categoría.\n",
    "\n",
    "   - `\"descripcion\"`: Breve descripción del objeto.\n",
    "\n",
    "   - `\"dimensiones\"`: Dimensiones del objeto en el formato adecuado.\n",
    "\n",
    "   - `\"imagen\"`: URL de la imagen del objeto.\n",
    "\n"
   ]
  },
  {
   "cell_type": "code",
   "execution_count": null,
   "metadata": {},
   "outputs": [],
   "source": []
  },
  {
   "cell_type": "markdown",
   "metadata": {},
   "source": [
    "5. **Almacenamiento de la Información en un DataFrame**:\n",
    "\n",
    "   Una vez que tengas toda la información organizada en diccionarios, el siguiente paso es convertirla en un DataFrame de Pandas. Este DataFrame te permitirá manipular y analizar los datos con facilidad. Tu DataFrame debería verse similar al ejemplo proporcionado, donde cada fila representa un objeto diferente y cada columna contiene la información extraída:\n",
    "\n",
    "![Dataframe](https://github.com/Hack-io-Data/Imagenes/blob/main/02-Imagenes/BS/df_atrezzo.png?raw=true)\n",
    "\n"
   ]
  },
  {
   "cell_type": "code",
   "execution_count": null,
   "metadata": {},
   "outputs": [],
   "source": []
  },
  {
   "cell_type": "markdown",
   "metadata": {},
   "source": [
    "\n",
    "6.  Consideraciones Adicionales:\n",
    "\n",
    "- Asegúrate de manejar posibles errores o excepciones durante el scraping, como tiempos de espera agotados, páginas inaccesibles o datos faltantes.\n",
    "\n",
    "- Recuerda que el scraping debe hacerse de manera respetuosa, evitando sobrecargar el servidor de la página web (puedes usar pausas entre solicitudes).\n",
    "\n",
    "- Finalmente, asegúrate de almacenar el DataFrame en un archivo CSV para que puedas reutilizar esta información en análisis futuros."
   ]
  },
  {
   "cell_type": "code",
   "execution_count": null,
   "metadata": {},
   "outputs": [],
   "source": []
  }
 ],
 "metadata": {
  "kernelspec": {
   "display_name": "Python 3",
   "language": "python",
   "name": "python3"
  },
  "language_info": {
   "codemirror_mode": {
    "name": "ipython",
    "version": 3
   },
   "file_extension": ".py",
   "mimetype": "text/x-python",
   "name": "python",
   "nbconvert_exporter": "python",
   "pygments_lexer": "ipython3",
   "version": "3.11.9"
  }
 },
 "nbformat": 4,
 "nbformat_minor": 2
}
