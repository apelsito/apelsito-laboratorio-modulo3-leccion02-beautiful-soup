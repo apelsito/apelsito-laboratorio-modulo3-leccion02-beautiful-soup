{
 "cells": [
  {
   "cell_type": "markdown",
   "metadata": {},
   "source": [
    "<div style=\"text-align: center;\">\n",
    "  <img src=\"https://github.com/Hack-io-Data/Imagenes/blob/main/01-LogosHackio/logo_naranja@4x.png?raw=true\" alt=\"esquema\" />\n",
    "</div>"
   ]
  },
  {
   "cell_type": "markdown",
   "metadata": {},
   "source": [
    "º## Contexto\n",
    "\n",
    "**Descripción:**\n",
    "\n",
    "SetMagic Productions es una empresa especializada en la provisión de servicios integrales para la realización de rodajes cinematográficos y audiovisuales. Nos dedicamos a facilitar tanto el atrezzo necesario para las producciones como los lugares idóneos para llevar a cabo los rodajes, ya sea en entornos al aire libre o en interiores.\n",
    "\n",
    "**Servicios Ofrecidos:**\n",
    "\n",
    "- **Atrezzo Creativo:** Contamos con un extenso catálogo de atrezzo que abarca desde accesorios hasta muebles y objetos temáticos para ambientar cualquier tipo de  escena.\n",
    "\n",
    "- **Locaciones Únicas:** Nuestra empresa ofrece una amplia selección de locaciones, que incluyen desde escenarios naturales como playas, bosques y montañas, hasta espacios interiores como estudios, casas históricas y edificios emblemáticos.\n",
    "- **Servicios de Producción:** Además de proporcionar atrezzo y locaciones, también ofrecemos servicios de producción audiovisual, incluyendo equipos de filmación, personal técnico y servicios de postproducción.\n",
    "\n",
    "**Herramientas y Tecnologías:**\n",
    "\n",
    "Para recopilar información sobre nuevas locaciones y tendencias en atrezzo, utilizamos herramientas de web scraping como Beautiful Soup y Selenium para extraer datos de sitios web relevantes y redes sociales especializadas en cine y producción audiovisual. También integramos APIs de plataformas de alquiler de locaciones y bases de datos de atrezzo para acceder a información actualizada y detallada.\n",
    "\n",
    "**Almacenamiento de Datos:** (A trabajar la próxima semana)\n",
    "\n",
    "La información recopilada mediante web scraping y APIs se almacenará tanto en una base de datos relacional SQL como en una base de datos no relacional MongoDB . Estas base de datos nos permite organizar eficientemente la información sobre locaciones, atrezzo, clientes y proyectos en curso, facilitando su acceso y gestión.\n",
    "\n",
    "**Objetivo:**\n",
    "\n",
    "Nuestro objetivo principal es proporcionar a nuestros clientes una experiencia fluida y personalizada en la búsqueda y selección de locaciones y atrezzo para sus proyectos audiovisuales. Utilizando tecnologías avanzadas y una amplia red de contactos en la industria, nos esforzamos por ofrecer soluciones creativas y de alta calidad que satisfagan las necesidades específicas de cada producción.\n",
    "\n",
    "\n",
    "## Lab: Extracción de Información con Beautiful Soup\n",
    "\n",
    "En este laboratorio seguirás enriqueciendo la base de datos para ofrecer a tus clientes un servicio más completo y personalizado. Para lograr esto, extraerás información valiosa sobre objetos de atrezzo de una web especializada. Utilizarás técnicas de web scraping con la biblioteca **Beautiful Soup** para obtener y organizar los datos de manera eficiente.\n",
    "\n",
    "Trabajarás con la siguiente URL: [Atrezzo Vázquez](https://atrezzovazquez.es/shop.php?search_type=-1&search_terms=&limit=48&page=1). Esta página contiene una gran cantidad de objetos de atrezzo que pueden ser de interés para un proyecto de rodaje. Tu tarea será extraer información relevante de los productos listados en las primeras 100 páginas.\n",
    "\n",
    "1. **Navegación y Extracción de Múltiples Páginas**:\n",
    "\n",
    "   - La página web contiene varios elementos distribuidos en distintas páginas. Tu objetivo será iterar a través de las 100 primeras páginas y extraer la información deseada.\n",
    "\n",
    "   - Debes asegurarte de que tu código sea capaz de navegar automáticamente por estas páginas y extraer datos de manera continua.\n",
    "      ```python\n",
    "      for pagina in range(1, 3):\n",
    "        url_ebay = f\"https://www.ebay.es/e/_moda/adidassneakerses?_pgn={pagina}\"\n",
    "        res_zapatillas = requests.get(url_ebay)\n",
    "        print(res_zapatillas.status_code)\n",
    "\n",
    "      # sacamos nombre zapatillas\n",
    "      sopa_zapatillas = BeautifulSoup(res_zapatillas.content, \"html.parser\")\n",
    "      lista_producto_zapatillas = sopa_zapatillas.findAll(\"h3\", {\"class\": \"s-item__title\"} )\n",
    "      if len(lista_producto_zapatillas) == 0:\n",
    "              break\n",
    "      else:\n",
    "          nombre_zapatillas = [zapatilla.getText() for zapatilla in lista_producto_zapatillas]\n",
    "          \n",
    "          # sacamos imagen zapatillas\n",
    "          lista_imagen_zapatilla = sopa_zapatillas.findAll(\"img\", {\"class\": \"s-item__image-img\"})\n",
    "          lista_imagenes = [link.get(\"data-high-res-src\")for link in lista_imagen_zapatilla]\n",
    "\n",
    "          # sacamos precio zapatillas\n",
    "          lista_precio_zapatillas = sopa_zapatillas.findAll(\"span\", {\"class\": \"s-item__price\"})\n",
    "          precio_zapatillas = [precio.getText() for precio in lista_precio_zapatillas]\n",
    "\n",
    "          df_zapatillas = pd.DataFrame({\"nombre_zapatillas\": nombre_zapatillas, \"imagen\": lista_imagenes, \"precio\": precio_zapatillas})\n",
    "          df_final = pd.concat([df_final, df_zapatillas])\n",
    "      ```\n",
    "      \n"
   ]
  },
  {
   "cell_type": "code",
   "execution_count": 129,
   "metadata": {},
   "outputs": [],
   "source": [
    "# Importamos las librerías que necesitamos\n",
    "\n",
    "# Librerías de extracción de datos\n",
    "# -----------------------------------------------------------------------\n",
    "from bs4 import BeautifulSoup\n",
    "import requests\n",
    "\n",
    "# Tratamiento de datos\n",
    "# -----------------------------------------------------------------------\n",
    "import pandas as pd\n",
    "import numpy as np\n",
    "import datetime"
   ]
  },
  {
   "cell_type": "code",
   "execution_count": 130,
   "metadata": {},
   "outputs": [],
   "source": [
    "url_atrezo = \"https://atrezzovazquez.es/shop.php?search_type=-1&search_terms=&limit=48&page=1\"\n",
    "res_atrezo = requests.get(url_atrezo)\n",
    "\n"
   ]
  },
  {
   "cell_type": "markdown",
   "metadata": {},
   "source": [
    "\n",
    "2. **Verificación del Código de Estado de la Respuesta**:\n",
    "\n",
    "   - Antes de extraer cualquier información, es fundamental verificar que la solicitud a la página web ha sido exitosa. Un código de estado 200 indica que la página se ha cargado correctamente.\n",
    "\n",
    "   - Si el código no es 200, debes imprimir un mensaje de error y detener la ejecución de la extracción para evitar problemas posteriores.\n",
    "\n",
    "\n"
   ]
  },
  {
   "cell_type": "code",
   "execution_count": 131,
   "metadata": {},
   "outputs": [
    {
     "name": "stdout",
     "output_type": "stream",
     "text": [
      "200\n"
     ]
    }
   ],
   "source": [
    "print(res_atrezo.status_code)\n",
    "sopa_atrezo = BeautifulSoup(res_atrezo.content, \"html.parser\")"
   ]
  },
  {
   "cell_type": "markdown",
   "metadata": {},
   "source": [
    "3. **Extracción de Información Específica**:\n",
    "\n",
    "   De cada página, deberás extraer los siguientes detalles de los objetos de atrezzo:\n",
    "\n",
    "   - **Nombre del Objeto**: El nombre o identificador del objeto.\n",
    "\n",
    "\n"
   ]
  },
  {
   "cell_type": "code",
   "execution_count": 199,
   "metadata": {},
   "outputs": [],
   "source": [
    "lista_nombre_atrezo = sopa_atrezo.findAll(\"a\",{\"class\":\"title\"})\n",
    "nombre_atrezo = [nombre.getText() for nombre in lista_nombre_atrezo]\n",
    "nombre_df = pd.DataFrame(nombre_atrezo,columns=[\"Nombre\"])\n"
   ]
  },
  {
   "cell_type": "markdown",
   "metadata": {},
   "source": [
    "   - **Categoría**: La categoría en la que se clasifica el objeto (ej.: mobiliario, decorado, utilería, etc.).\n"
   ]
  },
  {
   "cell_type": "code",
   "execution_count": 133,
   "metadata": {},
   "outputs": [],
   "source": [
    "lista_categoria_atrezo = sopa_atrezo.findAll(\"a\",{\"class\":\"tag\"})\n",
    "categoria_atrezo = [categoria.getText() for categoria in lista_categoria_atrezo]\n",
    "categoria_df = pd.DataFrame(categoria_atrezo, columns=[\"Categoría\"])"
   ]
  },
  {
   "cell_type": "markdown",
   "metadata": {},
   "source": [
    "\n",
    "   - **Sección**: La sección específica dentro de la categoría.\n",
    "\n"
   ]
  },
  {
   "cell_type": "code",
   "execution_count": 204,
   "metadata": {},
   "outputs": [],
   "source": [
    "lista_seccion_atrezo = sopa_atrezo.findAll(\"div\",{\"class\":\"cat-sec-box\"})\n",
    "seccion_atrezo = [seccion.getText() for seccion in lista_seccion_atrezo]\n",
    "seccion_df = pd.DataFrame(seccion_atrezo,columns=[\"Sección 1\"])\n",
    "#\\xa0 es el &nbsp; de HTML, que es un espacio, además separamos por dos porque hay dos espacios\n",
    "seccion_df = seccion_df[\"Sección 1\"].str.split(\"\\xa0\\xa0\",expand=True) \n"
   ]
  },
  {
   "cell_type": "markdown",
   "metadata": {},
   "source": [
    "   - **Descripción**: Una breve descripción del objeto que puede incluir detalles sobre su estilo, material o uso.\n"
   ]
  },
  {
   "cell_type": "code",
   "execution_count": 222,
   "metadata": {},
   "outputs": [
    {
     "data": {
      "text/html": [
       "<div>\n",
       "<style scoped>\n",
       "    .dataframe tbody tr th:only-of-type {\n",
       "        vertical-align: middle;\n",
       "    }\n",
       "\n",
       "    .dataframe tbody tr th {\n",
       "        vertical-align: top;\n",
       "    }\n",
       "\n",
       "    .dataframe thead th {\n",
       "        text-align: right;\n",
       "    }\n",
       "</style>\n",
       "<table border=\"1\" class=\"dataframe\">\n",
       "  <thead>\n",
       "    <tr style=\"text-align: right;\">\n",
       "      <th></th>\n",
       "      <th>0</th>\n",
       "    </tr>\n",
       "  </thead>\n",
       "  <tbody>\n",
       "    <tr>\n",
       "      <th>0</th>\n",
       "      <td>\\nAlfombra persa marrón (tiene unas manchas qu...</td>\n",
       "    </tr>\n",
       "    <tr>\n",
       "      <th>1</th>\n",
       "      <td>\\nVitrina con abanico\\n</td>\n",
       "    </tr>\n",
       "    <tr>\n",
       "      <th>2</th>\n",
       "      <td>\\nAlfombrín de cama círculos azules\\n</td>\n",
       "    </tr>\n",
       "    <tr>\n",
       "      <th>3</th>\n",
       "      <td>\\nAparador alemán 2 cuerpos\\n</td>\n",
       "    </tr>\n",
       "    <tr>\n",
       "      <th>4</th>\n",
       "      <td>\\nPie de madera para astrolabio\\n</td>\n",
       "    </tr>\n",
       "    <tr>\n",
       "      <th>...</th>\n",
       "      <td>...</td>\n",
       "    </tr>\n",
       "    <tr>\n",
       "      <th>169</th>\n",
       "      <td>\\nCarcel\\n</td>\n",
       "    </tr>\n",
       "    <tr>\n",
       "      <th>170</th>\n",
       "      <td>\\n</td>\n",
       "    </tr>\n",
       "    <tr>\n",
       "      <th>171</th>\n",
       "      <td>\\nComedorCocina\\n</td>\n",
       "    </tr>\n",
       "    <tr>\n",
       "      <th>172</th>\n",
       "      <td>\\nAmericanoAire acondicionado\\n</td>\n",
       "    </tr>\n",
       "    <tr>\n",
       "      <th>173</th>\n",
       "      <td>\\nComedorSalónIglesiaInglesaBar y cafeteríaPor...</td>\n",
       "    </tr>\n",
       "  </tbody>\n",
       "</table>\n",
       "<p>174 rows × 1 columns</p>\n",
       "</div>"
      ],
      "text/plain": [
       "                                                     0\n",
       "0    \\nAlfombra persa marrón (tiene unas manchas qu...\n",
       "1                              \\nVitrina con abanico\\n\n",
       "2                \\nAlfombrín de cama círculos azules\\n\n",
       "3                        \\nAparador alemán 2 cuerpos\\n\n",
       "4                    \\nPie de madera para astrolabio\\n\n",
       "..                                                 ...\n",
       "169                                         \\nCarcel\\n\n",
       "170                                                 \\n\n",
       "171                                  \\nComedorCocina\\n\n",
       "172                    \\nAmericanoAire acondicionado\\n\n",
       "173  \\nComedorSalónIglesiaInglesaBar y cafeteríaPor...\n",
       "\n",
       "[174 rows x 1 columns]"
      ]
     },
     "execution_count": 222,
     "metadata": {},
     "output_type": "execute_result"
    }
   ],
   "source": [
    "lista_descripcion_atrezo = sopa_atrezo.findAll(\"div\",{\"class\":\"article-container style-1\"})\n",
    "descripcion_atrezo = [descripcion.getText() for descripcion in lista_descripcion_atrezo]\n",
    "descripcion_atrezo[0].replace(\"\\n\",\"\").replace(\" (cm)\",\"\")\n",
    "dimensiones_atrezo[0]."
   ]
  },
  {
   "cell_type": "markdown",
   "metadata": {},
   "source": [
    "\n",
    "   - **Dimensiones**: El tamaño del objeto en formato (largo x ancho x alto).\n",
    "\n"
   ]
  },
  {
   "cell_type": "code",
   "execution_count": 186,
   "metadata": {},
   "outputs": [],
   "source": [
    "lista_dimensiones_atrezo = sopa_atrezo.findAll(\"div\",{\"class\":\"price\"})\n",
    "dimensiones_atrezo = [dimension.getText() for dimension in lista_dimensiones_atrezo]\n",
    "dimensiones_df = pd.DataFrame(dimensiones_atrezo,columns=[\"Dimensiones\"])\n",
    "dimensiones_df = dimensiones_df[\"Dimensiones\"].str.split(\"x\",expand=True)\n",
    "dimensiones_df = dimensiones_df.rename(columns={0:\"Largo (cm)\",1:\"Ancho (cm)\",2:\"Alto (cm)\"})\n",
    "dimensiones_df[\"Largo (cm)\"] = dimensiones_df[\"Largo (cm)\"].apply(lambda x: x.replace(\"\\n\",\"\"))\n",
    "dimensiones_df[\"Alto (cm)\"] = dimensiones_df[\"Alto (cm)\"].apply(lambda x: x.replace(\"\\n\",\"\").replace(\"(cm)\",\"\"))"
   ]
  },
  {
   "cell_type": "code",
   "execution_count": 213,
   "metadata": {},
   "outputs": [
    {
     "data": {
      "text/plain": [
       "list"
      ]
     },
     "execution_count": 213,
     "metadata": {},
     "output_type": "execute_result"
    }
   ],
   "source": [
    "lista_dimensiones_atrezo = sopa_atrezo.findAll(\"div\",{\"class\":\"price\"})\n",
    "dimensiones_atrezo = [dimension.getText() for dimension in lista_dimensiones_atrezo]\n",
    "type(dimensiones_atrezo)"
   ]
  },
  {
   "cell_type": "code",
   "execution_count": 217,
   "metadata": {},
   "outputs": [
    {
     "data": {
      "text/plain": [
       "'460x340x1'"
      ]
     },
     "execution_count": 217,
     "metadata": {},
     "output_type": "execute_result"
    }
   ],
   "source": [
    "dimensiones_atrezo[0].replace(\"\\n\",\"\").replace(\" (cm)\",\"\")\n"
   ]
  },
  {
   "cell_type": "code",
   "execution_count": null,
   "metadata": {},
   "outputs": [],
   "source": [
    "dimensiones_df = pd.DataFrame(dimensiones_atrezo,columns=[\"Dimensiones\"])\n",
    "dimensiones_df = dimensiones_df[\"Dimensiones\"].str.split(\"x\",expand=True)\n",
    "dimensiones_df = dimensiones_df.rename(columns={0:\"Largo (cm)\",1:\"Ancho (cm)\",2:\"Alto (cm)\"})\n",
    "dimensiones_df[\"Largo (cm)\"] = dimensiones_df[\"Largo (cm)\"].apply(lambda x: x.replace(\"\\n\",\"\"))\n",
    "dimensiones_df[\"Alto (cm)\"] = dimensiones_df[\"Alto (cm)\"].apply(lambda x: x.replace(\"\\n\",\"\").replace(\"(cm)\",\"\"))\n",
    "dimensiones_df"
   ]
  },
  {
   "cell_type": "code",
   "execution_count": null,
   "metadata": {},
   "outputs": [],
   "source": []
  },
  {
   "cell_type": "markdown",
   "metadata": {},
   "source": [
    "   - **Enlace a la Imagen**: El link a la imagen del objeto, útil para tener una vista previa visual."
   ]
  },
  {
   "cell_type": "code",
   "execution_count": 195,
   "metadata": {},
   "outputs": [
    {
     "data": {
      "text/html": [
       "<div>\n",
       "<style scoped>\n",
       "    .dataframe tbody tr th:only-of-type {\n",
       "        vertical-align: middle;\n",
       "    }\n",
       "\n",
       "    .dataframe tbody tr th {\n",
       "        vertical-align: top;\n",
       "    }\n",
       "\n",
       "    .dataframe thead th {\n",
       "        text-align: right;\n",
       "    }\n",
       "</style>\n",
       "<table border=\"1\" class=\"dataframe\">\n",
       "  <thead>\n",
       "    <tr style=\"text-align: right;\">\n",
       "      <th></th>\n",
       "      <th>url imagen</th>\n",
       "    </tr>\n",
       "  </thead>\n",
       "  <tbody>\n",
       "    <tr>\n",
       "      <th>0</th>\n",
       "      <td>https://atrezzovazquez.es/admin/img_prod/ALF1/...</td>\n",
       "    </tr>\n",
       "    <tr>\n",
       "      <th>1</th>\n",
       "      <td>https://atrezzovazquez.es/admin/img_prod/ADO1/...</td>\n",
       "    </tr>\n",
       "    <tr>\n",
       "      <th>2</th>\n",
       "      <td>https://atrezzovazquez.es/admin/img_prod/AFC1/...</td>\n",
       "    </tr>\n",
       "    <tr>\n",
       "      <th>3</th>\n",
       "      <td>https://atrezzovazquez.es/admin/img_prod/AP1/A...</td>\n",
       "    </tr>\n",
       "    <tr>\n",
       "      <th>4</th>\n",
       "      <td>https://atrezzovazquez.es/admin/img_prod/AST1/...</td>\n",
       "    </tr>\n",
       "    <tr>\n",
       "      <th>5</th>\n",
       "      <td>https://atrezzovazquez.es/admin/img_prod/TOR1/...</td>\n",
       "    </tr>\n",
       "    <tr>\n",
       "      <th>6</th>\n",
       "      <td>https://atrezzovazquez.es/admin/img_prod/ARC1/...</td>\n",
       "    </tr>\n",
       "    <tr>\n",
       "      <th>7</th>\n",
       "      <td>https://atrezzovazquez.es/admin/img_prod/AR1/A...</td>\n",
       "    </tr>\n",
       "    <tr>\n",
       "      <th>8</th>\n",
       "      <td>https://atrezzovazquez.es/admin/img_prod/ARM1/...</td>\n",
       "    </tr>\n",
       "    <tr>\n",
       "      <th>9</th>\n",
       "      <td>https://atrezzovazquez.es/admin/img_prod/ATD1/...</td>\n",
       "    </tr>\n",
       "    <tr>\n",
       "      <th>10</th>\n",
       "      <td>https://atrezzovazquez.es/admin/img_prod/ATR1/...</td>\n",
       "    </tr>\n",
       "    <tr>\n",
       "      <th>11</th>\n",
       "      <td>https://atrezzovazquez.es/admin/img_prod/BL1/B...</td>\n",
       "    </tr>\n",
       "    <tr>\n",
       "      <th>12</th>\n",
       "      <td>https://atrezzovazquez.es/admin/img_prod/BAC1/...</td>\n",
       "    </tr>\n",
       "    <tr>\n",
       "      <th>13</th>\n",
       "      <td>https://atrezzovazquez.es/admin/img_prod/BAN1/...</td>\n",
       "    </tr>\n",
       "    <tr>\n",
       "      <th>14</th>\n",
       "      <td>https://atrezzovazquez.es/admin/img_prod/M1/M1...</td>\n",
       "    </tr>\n",
       "    <tr>\n",
       "      <th>15</th>\n",
       "      <td>https://atrezzovazquez.es/admin/img_prod/BA1/B...</td>\n",
       "    </tr>\n",
       "    <tr>\n",
       "      <th>16</th>\n",
       "      <td>https://atrezzovazquez.es/admin/img_prod/BAR1/...</td>\n",
       "    </tr>\n",
       "    <tr>\n",
       "      <th>17</th>\n",
       "      <td>https://atrezzovazquez.es/admin/img_prod/BRL1/...</td>\n",
       "    </tr>\n",
       "    <tr>\n",
       "      <th>18</th>\n",
       "      <td>https://atrezzovazquez.es/admin/img_prod/BAS1/...</td>\n",
       "    </tr>\n",
       "    <tr>\n",
       "      <th>19</th>\n",
       "      <td>https://atrezzovazquez.es/admin/img_prod/BAU1/...</td>\n",
       "    </tr>\n",
       "    <tr>\n",
       "      <th>20</th>\n",
       "      <td>https://atrezzovazquez.es/admin/img_prod/BEB1/...</td>\n",
       "    </tr>\n",
       "    <tr>\n",
       "      <th>21</th>\n",
       "      <td>https://atrezzovazquez.es/admin/img_prod/PER1/...</td>\n",
       "    </tr>\n",
       "    <tr>\n",
       "      <th>22</th>\n",
       "      <td>https://atrezzovazquez.es/admin/img_prod/ESC1/...</td>\n",
       "    </tr>\n",
       "    <tr>\n",
       "      <th>23</th>\n",
       "      <td>https://atrezzovazquez.es/admin/img_prod/BIO1/...</td>\n",
       "    </tr>\n",
       "    <tr>\n",
       "      <th>24</th>\n",
       "      <td>https://atrezzovazquez.es/admin/img_prod/BIS1/...</td>\n",
       "    </tr>\n",
       "    <tr>\n",
       "      <th>25</th>\n",
       "      <td>https://atrezzovazquez.es/admin/img_prod/BRA1/...</td>\n",
       "    </tr>\n",
       "    <tr>\n",
       "      <th>26</th>\n",
       "      <td>https://atrezzovazquez.es/admin/img_prod/BUT1/...</td>\n",
       "    </tr>\n",
       "    <tr>\n",
       "      <th>27</th>\n",
       "      <td>https://atrezzovazquez.es/admin/img_prod/CAB1/...</td>\n",
       "    </tr>\n",
       "    <tr>\n",
       "      <th>28</th>\n",
       "      <td>https://atrezzovazquez.es/admin/img_prod/CAR1/...</td>\n",
       "    </tr>\n",
       "    <tr>\n",
       "      <th>29</th>\n",
       "      <td>https://atrezzovazquez.es/admin/img_prod/CF1/C...</td>\n",
       "    </tr>\n",
       "    <tr>\n",
       "      <th>30</th>\n",
       "      <td>https://atrezzovazquez.es/admin/img_prod/CAJ1/...</td>\n",
       "    </tr>\n",
       "    <tr>\n",
       "      <th>31</th>\n",
       "      <td>https://atrezzovazquez.es/admin/img_prod/CA1/C...</td>\n",
       "    </tr>\n",
       "    <tr>\n",
       "      <th>32</th>\n",
       "      <td>https://atrezzovazquez.es/admin/img_prod/REC1/...</td>\n",
       "    </tr>\n",
       "    <tr>\n",
       "      <th>33</th>\n",
       "      <td>https://atrezzovazquez.es/admin/img_prod/CARR1...</td>\n",
       "    </tr>\n",
       "    <tr>\n",
       "      <th>34</th>\n",
       "      <td>https://atrezzovazquez.es/admin/img_prod/CSE1/...</td>\n",
       "    </tr>\n",
       "    <tr>\n",
       "      <th>35</th>\n",
       "      <td>https://atrezzovazquez.es/admin/img_prod/CTN1/...</td>\n",
       "    </tr>\n",
       "    <tr>\n",
       "      <th>36</th>\n",
       "      <td>https://atrezzovazquez.es/admin/img_prod/CH1/C...</td>\n",
       "    </tr>\n",
       "    <tr>\n",
       "      <th>37</th>\n",
       "      <td>https://atrezzovazquez.es/admin/img_prod/CO1/C...</td>\n",
       "    </tr>\n",
       "    <tr>\n",
       "      <th>38</th>\n",
       "      <td>https://atrezzovazquez.es/admin/img_prod/COM1/...</td>\n",
       "    </tr>\n",
       "    <tr>\n",
       "      <th>39</th>\n",
       "      <td>https://atrezzovazquez.es/admin/img_prod/CON1/...</td>\n",
       "    </tr>\n",
       "    <tr>\n",
       "      <th>40</th>\n",
       "      <td>https://atrezzovazquez.es/admin/img_prod/COS1/...</td>\n",
       "    </tr>\n",
       "    <tr>\n",
       "      <th>41</th>\n",
       "      <td>https://atrezzovazquez.es/admin/img_prod/CU1/C...</td>\n",
       "    </tr>\n",
       "    <tr>\n",
       "      <th>42</th>\n",
       "      <td>https://atrezzovazquez.es/admin/img_prod/ANU1/...</td>\n",
       "    </tr>\n",
       "    <tr>\n",
       "      <th>43</th>\n",
       "      <td>https://atrezzovazquez.es/admin/img_prod/ESP1/...</td>\n",
       "    </tr>\n",
       "    <tr>\n",
       "      <th>44</th>\n",
       "      <td>https://atrezzovazquez.es/admin/img_prod/ES1/L...</td>\n",
       "    </tr>\n",
       "    <tr>\n",
       "      <th>45</th>\n",
       "      <td>https://atrezzovazquez.es/admin/img_prod/EST1/...</td>\n",
       "    </tr>\n",
       "    <tr>\n",
       "      <th>46</th>\n",
       "      <td>https://atrezzovazquez.es/admin/img_prod/ESTAT...</td>\n",
       "    </tr>\n",
       "    <tr>\n",
       "      <th>47</th>\n",
       "      <td>https://atrezzovazquez.es/admin/img_prod/ASP1/...</td>\n",
       "    </tr>\n",
       "  </tbody>\n",
       "</table>\n",
       "</div>"
      ],
      "text/plain": [
       "                                           url imagen\n",
       "0   https://atrezzovazquez.es/admin/img_prod/ALF1/...\n",
       "1   https://atrezzovazquez.es/admin/img_prod/ADO1/...\n",
       "2   https://atrezzovazquez.es/admin/img_prod/AFC1/...\n",
       "3   https://atrezzovazquez.es/admin/img_prod/AP1/A...\n",
       "4   https://atrezzovazquez.es/admin/img_prod/AST1/...\n",
       "5   https://atrezzovazquez.es/admin/img_prod/TOR1/...\n",
       "6   https://atrezzovazquez.es/admin/img_prod/ARC1/...\n",
       "7   https://atrezzovazquez.es/admin/img_prod/AR1/A...\n",
       "8   https://atrezzovazquez.es/admin/img_prod/ARM1/...\n",
       "9   https://atrezzovazquez.es/admin/img_prod/ATD1/...\n",
       "10  https://atrezzovazquez.es/admin/img_prod/ATR1/...\n",
       "11  https://atrezzovazquez.es/admin/img_prod/BL1/B...\n",
       "12  https://atrezzovazquez.es/admin/img_prod/BAC1/...\n",
       "13  https://atrezzovazquez.es/admin/img_prod/BAN1/...\n",
       "14  https://atrezzovazquez.es/admin/img_prod/M1/M1...\n",
       "15  https://atrezzovazquez.es/admin/img_prod/BA1/B...\n",
       "16  https://atrezzovazquez.es/admin/img_prod/BAR1/...\n",
       "17  https://atrezzovazquez.es/admin/img_prod/BRL1/...\n",
       "18  https://atrezzovazquez.es/admin/img_prod/BAS1/...\n",
       "19  https://atrezzovazquez.es/admin/img_prod/BAU1/...\n",
       "20  https://atrezzovazquez.es/admin/img_prod/BEB1/...\n",
       "21  https://atrezzovazquez.es/admin/img_prod/PER1/...\n",
       "22  https://atrezzovazquez.es/admin/img_prod/ESC1/...\n",
       "23  https://atrezzovazquez.es/admin/img_prod/BIO1/...\n",
       "24  https://atrezzovazquez.es/admin/img_prod/BIS1/...\n",
       "25  https://atrezzovazquez.es/admin/img_prod/BRA1/...\n",
       "26  https://atrezzovazquez.es/admin/img_prod/BUT1/...\n",
       "27  https://atrezzovazquez.es/admin/img_prod/CAB1/...\n",
       "28  https://atrezzovazquez.es/admin/img_prod/CAR1/...\n",
       "29  https://atrezzovazquez.es/admin/img_prod/CF1/C...\n",
       "30  https://atrezzovazquez.es/admin/img_prod/CAJ1/...\n",
       "31  https://atrezzovazquez.es/admin/img_prod/CA1/C...\n",
       "32  https://atrezzovazquez.es/admin/img_prod/REC1/...\n",
       "33  https://atrezzovazquez.es/admin/img_prod/CARR1...\n",
       "34  https://atrezzovazquez.es/admin/img_prod/CSE1/...\n",
       "35  https://atrezzovazquez.es/admin/img_prod/CTN1/...\n",
       "36  https://atrezzovazquez.es/admin/img_prod/CH1/C...\n",
       "37  https://atrezzovazquez.es/admin/img_prod/CO1/C...\n",
       "38  https://atrezzovazquez.es/admin/img_prod/COM1/...\n",
       "39  https://atrezzovazquez.es/admin/img_prod/CON1/...\n",
       "40  https://atrezzovazquez.es/admin/img_prod/COS1/...\n",
       "41  https://atrezzovazquez.es/admin/img_prod/CU1/C...\n",
       "42  https://atrezzovazquez.es/admin/img_prod/ANU1/...\n",
       "43  https://atrezzovazquez.es/admin/img_prod/ESP1/...\n",
       "44  https://atrezzovazquez.es/admin/img_prod/ES1/L...\n",
       "45  https://atrezzovazquez.es/admin/img_prod/EST1/...\n",
       "46  https://atrezzovazquez.es/admin/img_prod/ESTAT...\n",
       "47  https://atrezzovazquez.es/admin/img_prod/ASP1/..."
      ]
     },
     "execution_count": 195,
     "metadata": {},
     "output_type": "execute_result"
    }
   ],
   "source": [
    "lista_imagen_atrezo = sopa_atrezo.findAll(\"div\",{\"class\":\"product-image\"})\n",
    "imagenes_atrezo = [f\"https://atrezzovazquez.es/{imagen.contents[0].get('src')}\" for imagen in lista_imagen_atrezo]\n",
    "imagenes_df = pd.DataFrame(imagenes_atrezo,columns=[\"url imagen\"])\n",
    "imagenes_df\n"
   ]
  },
  {
   "cell_type": "markdown",
   "metadata": {},
   "source": [
    "\n",
    "4. **Organización de los Datos en un Diccionario**:\n",
    "\n",
    "   Una vez extraída la información, deberás organizarla en un diccionario con las siguientes claves:\n",
    "\n",
    "   - `\"nombre\"`: Nombres del objeto.\n",
    "\n",
    "   - `\"categoria\"`: Categoría a la que pertenece el objeto.\n",
    "\n",
    "   - `\"seccion\"`: Sección específica dentro de la categoría.\n",
    "\n",
    "   - `\"descripcion\"`: Breve descripción del objeto.\n",
    "\n",
    "   - `\"dimensiones\"`: Dimensiones del objeto en el formato adecuado.\n",
    "\n",
    "   - `\"imagen\"`: URL de la imagen del objeto.\n",
    "\n"
   ]
  },
  {
   "cell_type": "code",
   "execution_count": null,
   "metadata": {},
   "outputs": [],
   "source": []
  },
  {
   "cell_type": "markdown",
   "metadata": {},
   "source": [
    "5. **Almacenamiento de la Información en un DataFrame**:\n",
    "\n",
    "   Una vez que tengas toda la información organizada en diccionarios, el siguiente paso es convertirla en un DataFrame de Pandas. Este DataFrame te permitirá manipular y analizar los datos con facilidad. Tu DataFrame debería verse similar al ejemplo proporcionado, donde cada fila representa un objeto diferente y cada columna contiene la información extraída:\n",
    "\n",
    "![Dataframe](https://github.com/Hack-io-Data/Imagenes/blob/main/02-Imagenes/BS/df_atrezzo.png?raw=true)\n",
    "\n"
   ]
  },
  {
   "cell_type": "code",
   "execution_count": null,
   "metadata": {},
   "outputs": [],
   "source": []
  },
  {
   "cell_type": "markdown",
   "metadata": {},
   "source": [
    "\n",
    "6.  Consideraciones Adicionales:\n",
    "\n",
    "- Asegúrate de manejar posibles errores o excepciones durante el scraping, como tiempos de espera agotados, páginas inaccesibles o datos faltantes.\n",
    "\n",
    "- Recuerda que el scraping debe hacerse de manera respetuosa, evitando sobrecargar el servidor de la página web (puedes usar pausas entre solicitudes).\n",
    "\n",
    "- Finalmente, asegúrate de almacenar el DataFrame en un archivo CSV para que puedas reutilizar esta información en análisis futuros."
   ]
  },
  {
   "cell_type": "code",
   "execution_count": null,
   "metadata": {},
   "outputs": [],
   "source": []
  }
 ],
 "metadata": {
  "kernelspec": {
   "display_name": "Python 3",
   "language": "python",
   "name": "python3"
  },
  "language_info": {
   "codemirror_mode": {
    "name": "ipython",
    "version": 3
   },
   "file_extension": ".py",
   "mimetype": "text/x-python",
   "name": "python",
   "nbconvert_exporter": "python",
   "pygments_lexer": "ipython3",
   "version": "3.11.9"
  }
 },
 "nbformat": 4,
 "nbformat_minor": 2
}
